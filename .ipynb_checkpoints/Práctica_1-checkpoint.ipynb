{
 "cells": [
  {
   "cell_type": "markdown",
   "id": "7e96601d-eeae-44f0-a61e-4ad6565ffbbe",
   "metadata": {},
   "source": [
    "# Práctica 1\n",
    "\n",
    "Blablabla"
   ]
  },
  {
   "cell_type": "code",
   "execution_count": 1,
   "id": "f38998b8-557f-4230-b503-d0421634badf",
   "metadata": {},
   "outputs": [
    {
     "name": "stdout",
     "output_type": "stream",
     "text": [
      "hola\n"
     ]
    }
   ],
   "source": [
    "print('hola')"
   ]
  },
  {
   "cell_type": "markdown",
   "id": "b93c821f-e874-4723-aa63-95deaddfa377",
   "metadata": {},
   "source": [
    "blablabla"
   ]
  }
 ],
 "metadata": {
  "kernelspec": {
   "display_name": "Python [conda env:jra]",
   "language": "python",
   "name": "conda-env-jra-py"
  },
  "language_info": {
   "codemirror_mode": {
    "name": "ipython",
    "version": 3
   },
   "file_extension": ".py",
   "mimetype": "text/x-python",
   "name": "python",
   "nbconvert_exporter": "python",
   "pygments_lexer": "ipython3",
   "version": "3.10.6"
  }
 },
 "nbformat": 4,
 "nbformat_minor": 5
}
